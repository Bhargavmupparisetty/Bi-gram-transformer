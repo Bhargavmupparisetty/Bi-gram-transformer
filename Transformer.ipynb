{
  "cells": [
    {
      "cell_type": "code",
      "execution_count": null,
      "metadata": {
        "colab": {
          "base_uri": "https://localhost:8080/"
        },
        "id": "dpsz855j-ghl",
        "outputId": "767b91a1-6a19-48e6-971b-b64ff9287948"
      },
      "outputs": [
        {
          "name": "stdout",
          "output_type": "stream",
          "text": [
            "Requirement already satisfied: transformers in /usr/local/lib/python3.10/dist-packages (4.35.2)\n",
            "Requirement already satisfied: filelock in /usr/local/lib/python3.10/dist-packages (from transformers) (3.13.1)\n",
            "Requirement already satisfied: huggingface-hub<1.0,>=0.16.4 in /usr/local/lib/python3.10/dist-packages (from transformers) (0.20.3)\n",
            "Requirement already satisfied: numpy>=1.17 in /usr/local/lib/python3.10/dist-packages (from transformers) (1.23.5)\n",
            "Requirement already satisfied: packaging>=20.0 in /usr/local/lib/python3.10/dist-packages (from transformers) (23.2)\n",
            "Requirement already satisfied: pyyaml>=5.1 in /usr/local/lib/python3.10/dist-packages (from transformers) (6.0.1)\n",
            "Requirement already satisfied: regex!=2019.12.17 in /usr/local/lib/python3.10/dist-packages (from transformers) (2023.6.3)\n",
            "Requirement already satisfied: requests in /usr/local/lib/python3.10/dist-packages (from transformers) (2.31.0)\n",
            "Requirement already satisfied: tokenizers<0.19,>=0.14 in /usr/local/lib/python3.10/dist-packages (from transformers) (0.15.1)\n",
            "Requirement already satisfied: safetensors>=0.3.1 in /usr/local/lib/python3.10/dist-packages (from transformers) (0.4.2)\n",
            "Requirement already satisfied: tqdm>=4.27 in /usr/local/lib/python3.10/dist-packages (from transformers) (4.66.1)\n",
            "Requirement already satisfied: fsspec>=2023.5.0 in /usr/local/lib/python3.10/dist-packages (from huggingface-hub<1.0,>=0.16.4->transformers) (2023.6.0)\n",
            "Requirement already satisfied: typing-extensions>=3.7.4.3 in /usr/local/lib/python3.10/dist-packages (from huggingface-hub<1.0,>=0.16.4->transformers) (4.5.0)\n",
            "Requirement already satisfied: charset-normalizer<4,>=2 in /usr/local/lib/python3.10/dist-packages (from requests->transformers) (3.3.2)\n",
            "Requirement already satisfied: idna<4,>=2.5 in /usr/local/lib/python3.10/dist-packages (from requests->transformers) (3.6)\n",
            "Requirement already satisfied: urllib3<3,>=1.21.1 in /usr/local/lib/python3.10/dist-packages (from requests->transformers) (2.0.7)\n",
            "Requirement already satisfied: certifi>=2017.4.17 in /usr/local/lib/python3.10/dist-packages (from requests->transformers) (2023.11.17)\n"
          ]
        }
      ],
      "source": [
        "!pip install transformers"
      ]
    },
    {
      "cell_type": "code",
      "execution_count": null,
      "metadata": {
        "colab": {
          "base_uri": "https://localhost:8080/"
        },
        "id": "5W7egsXJCraQ",
        "outputId": "67de8428-5bcd-4caf-e096-f88b5e479479"
      },
      "outputs": [
        {
          "name": "stdout",
          "output_type": "stream",
          "text": [
            "Requirement already satisfied: torch in /usr/local/lib/python3.10/dist-packages (2.1.0+cu121)\n",
            "Requirement already satisfied: filelock in /usr/local/lib/python3.10/dist-packages (from torch) (3.13.1)\n",
            "Requirement already satisfied: typing-extensions in /usr/local/lib/python3.10/dist-packages (from torch) (4.5.0)\n",
            "Requirement already satisfied: sympy in /usr/local/lib/python3.10/dist-packages (from torch) (1.12)\n",
            "Requirement already satisfied: networkx in /usr/local/lib/python3.10/dist-packages (from torch) (3.2.1)\n",
            "Requirement already satisfied: jinja2 in /usr/local/lib/python3.10/dist-packages (from torch) (3.1.3)\n",
            "Requirement already satisfied: fsspec in /usr/local/lib/python3.10/dist-packages (from torch) (2023.6.0)\n",
            "Requirement already satisfied: triton==2.1.0 in /usr/local/lib/python3.10/dist-packages (from torch) (2.1.0)\n",
            "Requirement already satisfied: MarkupSafe>=2.0 in /usr/local/lib/python3.10/dist-packages (from jinja2->torch) (2.1.4)\n",
            "Requirement already satisfied: mpmath>=0.19 in /usr/local/lib/python3.10/dist-packages (from sympy->torch) (1.3.0)\n"
          ]
        }
      ],
      "source": [
        "!pip install torch"
      ]
    },
    {
      "cell_type": "code",
      "execution_count": null,
      "metadata": {
        "colab": {
          "base_uri": "https://localhost:8080/"
        },
        "id": "yAd6stL8qXU_",
        "outputId": "d6c6d2bd-34dd-47dc-a21a-1b2715f59e9a"
      },
      "outputs": [
        {
          "output_type": "stream",
          "name": "stdout",
          "text": [
            "Collecting clean-text\n",
            "  Downloading clean_text-0.6.0-py3-none-any.whl (11 kB)\n",
            "Collecting emoji<2.0.0,>=1.0.0 (from clean-text)\n",
            "  Downloading emoji-1.7.0.tar.gz (175 kB)\n",
            "\u001b[2K     \u001b[90m━━━━━━━━━━━━━━━━━━━━━━━━━━━━━━━━━━━━━━━━\u001b[0m \u001b[32m175.4/175.4 kB\u001b[0m \u001b[31m5.1 MB/s\u001b[0m eta \u001b[36m0:00:00\u001b[0m\n",
            "\u001b[?25h  Preparing metadata (setup.py) ... \u001b[?25l\u001b[?25hdone\n",
            "Collecting ftfy<7.0,>=6.0 (from clean-text)\n",
            "  Downloading ftfy-6.1.3-py3-none-any.whl (53 kB)\n",
            "\u001b[2K     \u001b[90m━━━━━━━━━━━━━━━━━━━━━━━━━━━━━━━━━━━━━━━━\u001b[0m \u001b[32m53.4/53.4 kB\u001b[0m \u001b[31m6.9 MB/s\u001b[0m eta \u001b[36m0:00:00\u001b[0m\n",
            "\u001b[?25hRequirement already satisfied: wcwidth<0.3.0,>=0.2.12 in /usr/local/lib/python3.10/dist-packages (from ftfy<7.0,>=6.0->clean-text) (0.2.13)\n",
            "Building wheels for collected packages: emoji\n",
            "  Building wheel for emoji (setup.py) ... \u001b[?25l\u001b[?25hdone\n",
            "  Created wheel for emoji: filename=emoji-1.7.0-py3-none-any.whl size=171033 sha256=8d5bd6073b158285914424fff6ce6a05fd49df19a4c629cd4f76229fa43f4930\n",
            "  Stored in directory: /root/.cache/pip/wheels/31/8a/8c/315c9e5d7773f74b33d5ed33f075b49c6eaeb7cedbb86e2cf8\n",
            "Successfully built emoji\n",
            "Installing collected packages: emoji, ftfy, clean-text\n",
            "Successfully installed clean-text-0.6.0 emoji-1.7.0 ftfy-6.1.3\n"
          ]
        }
      ],
      "source": [
        "!pip install clean-text"
      ]
    },
    {
      "cell_type": "code",
      "execution_count": null,
      "metadata": {
        "colab": {
          "base_uri": "https://localhost:8080/"
        },
        "id": "YpNWDnSHVgpn",
        "outputId": "ef42c762-c322-4190-fdeb-1022f9ece971"
      },
      "outputs": [
        {
          "output_type": "stream",
          "name": "stdout",
          "text": [
            "Collecting unidecode\n",
            "  Downloading Unidecode-1.3.8-py3-none-any.whl (235 kB)\n",
            "\u001b[?25l     \u001b[90m━━━━━━━━━━━━━━━━━━━━━━━━━━━━━━━━━━━━━━━━\u001b[0m \u001b[32m0.0/235.5 kB\u001b[0m \u001b[31m?\u001b[0m eta \u001b[36m-:--:--\u001b[0m\r\u001b[2K     \u001b[91m━━━━━━━━━━━━━━━━━━━━━━━━━━━━━━━━━━━━━━\u001b[0m\u001b[90m╺\u001b[0m\u001b[90m━\u001b[0m \u001b[32m225.3/235.5 kB\u001b[0m \u001b[31m7.7 MB/s\u001b[0m eta \u001b[36m0:00:01\u001b[0m\r\u001b[2K     \u001b[90m━━━━━━━━━━━━━━━━━━━━━━━━━━━━━━━━━━━━━━━━\u001b[0m \u001b[32m235.5/235.5 kB\u001b[0m \u001b[31m6.4 MB/s\u001b[0m eta \u001b[36m0:00:00\u001b[0m\n",
            "\u001b[?25hInstalling collected packages: unidecode\n",
            "Successfully installed unidecode-1.3.8\n"
          ]
        }
      ],
      "source": [
        "!pip install unidecode"
      ]
    },
    {
      "cell_type": "code",
      "source": [
        "!git clone \"https://github.com/cobanov/shakespeare-dataset.git\""
      ],
      "metadata": {
        "colab": {
          "base_uri": "https://localhost:8080/"
        },
        "id": "xSkFUECRawzi",
        "outputId": "7e20916e-a2f3-45e4-8c31-15544ee6b459"
      },
      "execution_count": null,
      "outputs": [
        {
          "output_type": "stream",
          "name": "stdout",
          "text": [
            "Cloning into 'shakespeare-dataset'...\n",
            "remote: Enumerating objects: 56, done.\u001b[K\n",
            "remote: Counting objects: 100% (56/56), done.\u001b[K\n",
            "remote: Compressing objects: 100% (55/55), done.\u001b[K\n",
            "remote: Total 56 (delta 4), reused 3 (delta 0), pack-reused 0\u001b[K\n",
            "Receiving objects: 100% (56/56), 2.08 MiB | 3.76 MiB/s, done.\n",
            "Resolving deltas: 100% (4/4), done.\n"
          ]
        }
      ]
    },
    {
      "cell_type": "code",
      "execution_count": null,
      "metadata": {
        "id": "5dmb_rnWWfIP"
      },
      "outputs": [],
      "source": []
    },
    {
      "cell_type": "code",
      "execution_count": null,
      "metadata": {
        "id": "51Fs0NWpWzuq"
      },
      "outputs": [],
      "source": []
    },
    {
      "cell_type": "code",
      "execution_count": null,
      "metadata": {
        "id": "8Gb3iJfgWlbv"
      },
      "outputs": [],
      "source": [
        "# Reading the dataset\n",
        "\n",
        "with open('/content/shakespeare-dataset/text/a-midsummer-nights-dream_TXT_FolgerShakespeare.txt','r',encoding='utf-8') as f:\n",
        "  text = f.read()"
      ]
    },
    {
      "cell_type": "code",
      "execution_count": null,
      "metadata": {
        "colab": {
          "base_uri": "https://localhost:8080/"
        },
        "id": "NXev6588YEaT",
        "outputId": "73b915f3-2138-4774-97a9-93888a3da69a"
      },
      "outputs": [
        {
          "output_type": "stream",
          "name": "stdout",
          "text": [
            "length of text in characters :  97213\n"
          ]
        }
      ],
      "source": [
        "print(\"length of text in characters : \",len(text))"
      ]
    },
    {
      "cell_type": "code",
      "execution_count": null,
      "metadata": {
        "colab": {
          "base_uri": "https://localhost:8080/"
        },
        "id": "IE20XyGVYL2v",
        "outputId": "681a3270-e69e-4352-a9e9-52931a94df71"
      },
      "outputs": [
        {
          "output_type": "stream",
          "name": "stdout",
          "text": [
            "A Midsummer Night's Dream\n",
            "by William Shakespeare\n",
            "Edited by Barbara A. Mowat and Paul Werstine\n",
            "  with Michael Poston and Rebecca Niles\n",
            "Folger Shakespeare Library\n",
            "https://shakespeare.folger.edu/shakespeares-works/a-midsummer-nights-dream/\n",
            "Created on Jul 31, 2015, from FDT version 0.9.2\n",
            "\n",
            "Characters in the Play\n",
            "======================\n",
            "Four lovers:\n",
            "  HERMIA\n",
            "  LYSANDER\n",
            "  HELENA\n",
            "  DEMETRIUS\n",
            "THESEUS, duke of Athens\n",
            "HIPPOLYTA, queen of the Amazons\n",
            "EGEUS, father to Hermia\n",
            "PHILOSTRATE, master of the revels to Theseus\n",
            "NICK BOTTOM, weaver\n",
            "PETER QUINCE, carpenter\n",
            "FRANCIS FLUTE, bellows-mender\n",
            "TOM SNOUT, tinker\n",
            "SNUG, joiner\n",
            "ROBIN STARVELING, tailor\n",
            "OBERON, king of the Fairies\n",
            "TITANIA, queen of the Fairies\n",
            "ROBIN GOODFELLOW, a \"puck,\" or hobgoblin, in Oberon's service\n",
            "A FAIRY, in the service of Titania\n",
            "Fairies attending upon Titania:\n",
            "  PEASEBLOSSOM\n",
            "  COBWEB\n",
            "  MOTE\n",
            "  MUSTARDSEED\n",
            "Lords and Attendants on Theseus and Hippolyta\n",
            "Other Fairies in the trains of Titania and Oberon\n",
            "\n",
            "\n",
            "ACT 1\n",
            "=====\n",
            "\n",
            "Scene 1\n",
            "=======\n",
            "\n"
          ]
        }
      ],
      "source": [
        "#looking the first 1000 characters\n",
        "print(text[0:1000])"
      ]
    },
    {
      "cell_type": "code",
      "execution_count": null,
      "metadata": {
        "colab": {
          "base_uri": "https://localhost:8080/"
        },
        "id": "j5U7Syh1Zi9M",
        "outputId": "c3e1bbc1-d295-4de0-865e-401913f4b898"
      },
      "outputs": [
        {
          "output_type": "stream",
          "name": "stdout",
          "text": [
            "\t\n",
            " !\"'(),-./0123459:;=?ABCDEFGHIJKLMNOPQRSTUVWY[]abcdefghijklmnopqrstuvwxyz\n",
            "75\n"
          ]
        }
      ],
      "source": [
        "chars = sorted(list(set(text)))\n",
        "vocab_size = len(chars)\n",
        "print(''.join(chars))\n",
        "print(vocab_size)"
      ]
    },
    {
      "cell_type": "code",
      "execution_count": null,
      "metadata": {
        "id": "oBHVSL_2fuT9"
      },
      "outputs": [],
      "source": [
        "#encoding\n",
        "stoi = {ch:i for i,ch in enumerate(chars)}\n",
        "itos = {i:ch for i,ch in enumerate(chars)}\n",
        "encode = lambda s:[stoi[c] for c in s]\n",
        "decode = lambda l: ''.join([itos[i] for i in l])"
      ]
    },
    {
      "cell_type": "code",
      "execution_count": null,
      "metadata": {
        "colab": {
          "base_uri": "https://localhost:8080/"
        },
        "id": "K2AIbcfigSIE",
        "outputId": "cbfaf91f-950c-49af-b925-f2d55e829b3b"
      },
      "outputs": [
        {
          "output_type": "stream",
          "name": "stdout",
          "text": [
            "torch.Size([97213]) torch.int64\n",
            "tensor([23,  2, 35, 57, 52, 67, 69, 61, 61, 53, 66,  2, 36, 57, 55, 56, 68,  5,\n",
            "        67,  2, 26, 66, 53, 49, 61,  1, 50, 73,  2, 45, 57, 60, 60, 57, 49, 61,\n",
            "         2, 41, 56, 49, 59, 53, 67, 64, 53, 49, 66, 53,  1, 27, 52, 57, 68, 53,\n",
            "        52,  2, 50, 73,  2, 24, 49, 66, 50, 49, 66, 49,  2, 23, 10,  2, 35, 63,\n",
            "        71, 49, 68,  2, 49, 62, 52,  2, 38, 49, 69, 60,  2, 45, 53, 66, 67, 68,\n",
            "        57, 62, 53,  1,  2,  2, 71, 57, 68, 56,  2, 35, 57, 51, 56, 49, 53, 60,\n",
            "         2, 38, 63, 67, 68, 63, 62,  2, 49, 62, 52,  2, 40, 53, 50, 53, 51, 51,\n",
            "        49,  2, 36, 57, 60, 53, 67,  1, 28, 63, 60, 55, 53, 66,  2, 41, 56, 49,\n",
            "        59, 53, 67, 64, 53, 49, 66, 53,  2, 34, 57, 50, 66, 49, 66, 73,  1, 56,\n",
            "        68, 68, 64, 67, 19, 11, 11, 67, 56, 49, 59, 53, 67, 64, 53, 49, 66, 53,\n",
            "        10, 54, 63, 60, 55, 53, 66, 10, 53, 52, 69, 11, 67, 56, 49, 59, 53, 67,\n",
            "        64, 53, 49, 66, 53, 67,  9, 71, 63, 66, 59, 67, 11, 49,  9, 61, 57, 52,\n",
            "        67, 69, 61, 61, 53, 66,  9, 62, 57, 55, 56, 68, 67,  9, 52, 66, 53, 49,\n",
            "        61, 11,  1, 25, 66, 53, 49, 68, 53, 52,  2, 63, 62,  2, 32, 69, 60,  2,\n",
            "        15, 13,  8,  2, 14, 12, 13, 17,  8,  2, 54, 66, 63, 61,  2, 28, 26, 42,\n",
            "         2, 70, 53, 66, 67, 57, 63, 62,  2, 12, 10, 18, 10, 14,  1,  1, 25, 56,\n",
            "        49, 66, 49, 51, 68, 53, 66, 67,  2, 57, 62,  2, 68, 56, 53,  2, 38, 60,\n",
            "        49, 73,  1, 21, 21, 21, 21, 21, 21, 21, 21, 21, 21, 21, 21, 21, 21, 21,\n",
            "        21, 21, 21, 21, 21, 21, 21,  1, 28, 63, 69, 66,  2, 60, 63, 70, 53, 66,\n",
            "        67, 19,  1,  2,  2, 30, 27, 40, 35, 31, 23,  1,  2,  2, 34, 46, 41, 23,\n",
            "        36, 26, 27, 40,  1,  2,  2, 30, 27, 34, 27, 36, 23,  1,  2,  2, 26, 27,\n",
            "        35, 27, 42, 40, 31, 43, 41,  1, 42, 30, 27, 41, 27, 43, 41,  8,  2, 52,\n",
            "        69, 59, 53,  2, 63, 54,  2, 23, 68, 56, 53, 62, 67,  1, 30, 31, 38, 38,\n",
            "        37, 34, 46, 42, 23,  8,  2, 65, 69, 53, 53, 62,  2, 63, 54,  2, 68, 56,\n",
            "        53,  2, 23, 61, 49, 74, 63, 62, 67,  1, 27, 29, 27, 43, 41,  8,  2, 54,\n",
            "        49, 68, 56, 53, 66,  2, 68, 63,  2, 30, 53, 66, 61, 57, 49,  1, 38, 30,\n",
            "        31, 34, 37, 41, 42, 40, 23, 42, 27,  8,  2, 61, 49, 67, 68, 53, 66,  2,\n",
            "        63, 54,  2, 68, 56, 53,  2, 66, 53, 70, 53, 60, 67,  2, 68, 63,  2, 42,\n",
            "        56, 53, 67, 53, 69, 67,  1, 36, 31, 25, 33,  2, 24, 37, 42, 42, 37, 35,\n",
            "         8,  2, 71, 53, 49, 70, 53, 66,  1, 38, 27, 42, 27, 40,  2, 39, 43, 31,\n",
            "        36, 25, 27,  8,  2, 51, 49, 66, 64, 53, 62, 68, 53, 66,  1, 28, 40, 23,\n",
            "        36, 25, 31, 41,  2, 28, 34, 43, 42, 27,  8,  2, 50, 53, 60, 60, 63, 71,\n",
            "        67,  9, 61, 53, 62, 52, 53, 66,  1, 42, 37, 35,  2, 41, 36, 37, 43, 42,\n",
            "         8,  2, 68, 57, 62, 59, 53, 66,  1, 41, 36, 43, 29,  8,  2, 58, 63, 57,\n",
            "        62, 53, 66,  1, 40, 37, 24, 31, 36,  2, 41, 42, 23, 40, 44, 27, 34, 31,\n",
            "        36, 29,  8,  2, 68, 49, 57, 60, 63, 66,  1, 37, 24, 27, 40, 37, 36,  8,\n",
            "         2, 59, 57, 62, 55,  2, 63, 54,  2, 68, 56, 53,  2, 28, 49, 57, 66, 57,\n",
            "        53, 67,  1, 42, 31, 42, 23, 36, 31, 23,  8,  2, 65, 69, 53, 53, 62,  2,\n",
            "        63, 54,  2, 68, 56, 53,  2, 28, 49, 57, 66, 57, 53, 67,  1, 40, 37, 24,\n",
            "        31, 36,  2, 29, 37, 37, 26, 28, 27, 34, 34, 37, 45,  8,  2, 49,  2,  4,\n",
            "        64, 69, 51, 59,  8,  4,  2, 63, 66,  2, 56, 63, 50, 55, 63, 50, 60, 57,\n",
            "        62,  8,  2, 57, 62,  2, 37, 50, 53, 66, 63, 62,  5, 67,  2, 67, 53, 66,\n",
            "        70, 57, 51, 53,  1, 23,  2, 28, 23, 31, 40, 46,  8,  2, 57, 62,  2, 68,\n",
            "        56, 53,  2, 67, 53, 66, 70, 57, 51, 53,  2, 63, 54,  2, 42, 57, 68, 49,\n",
            "        62, 57, 49,  1, 28, 49, 57, 66, 57, 53, 67,  2, 49, 68, 68, 53, 62, 52,\n",
            "        57, 62, 55,  2, 69, 64, 63, 62,  2, 42, 57, 68, 49, 62, 57, 49, 19,  1,\n",
            "         2,  2, 38, 27, 23, 41, 27, 24, 34, 37, 41, 41, 37, 35,  1,  2,  2, 25,\n",
            "        37, 24, 45, 27, 24,  1,  2,  2, 35, 37, 42, 27,  1,  2,  2, 35, 43, 41,\n",
            "        42, 23, 40, 26, 41, 27, 27, 26,  1, 34, 63, 66, 52, 67,  2, 49, 62, 52,\n",
            "         2, 23, 68, 68, 53, 62, 52, 49, 62, 68, 67,  2, 63, 62,  2, 42, 56, 53,\n",
            "        67, 53, 69, 67,  2, 49, 62, 52,  2, 30, 57, 64, 64, 63, 60, 73, 68, 49,\n",
            "         1, 37, 68, 56, 53, 66,  2, 28, 49, 57, 66, 57, 53, 67,  2, 57, 62,  2,\n",
            "        68, 56, 53,  2, 68, 66, 49, 57, 62, 67,  2, 63, 54,  2, 42, 57, 68, 49,\n",
            "        62, 57, 49,  2, 49, 62, 52,  2, 37, 50, 53, 66, 63, 62,  1,  1,  1, 23,\n",
            "        25, 42,  2, 13,  1, 21, 21, 21, 21, 21,  1,  1, 41, 51, 53, 62, 53,  2,\n",
            "        13,  1, 21, 21, 21, 21, 21, 21, 21,  1])\n"
          ]
        }
      ],
      "source": [
        "import torch\n",
        "data = torch.tensor(encode(text),dtype=torch.long)\n",
        "print(data.shape,data.dtype)\n",
        "print(data[0:1000])"
      ]
    },
    {
      "cell_type": "code",
      "execution_count": null,
      "metadata": {
        "id": "Y_GndX7YhyAx"
      },
      "outputs": [],
      "source": [
        "#Hyperparameters\n",
        "\n",
        "batch_size = 4\n",
        "block_size = 8\n",
        "max_iters = 5000\n",
        "n_embed=384\n",
        "eval_interval = 300\n",
        "eval_iters = 200\n",
        "n_head=6\n",
        "n_layer=6\n",
        "dropout=0.0\n",
        "learning_rate = 3e-4"
      ]
    },
    {
      "cell_type": "code",
      "execution_count": null,
      "metadata": {
        "id": "89v8j3mHhVdA"
      },
      "outputs": [],
      "source": [
        "#splitting into train and validation datasets\n",
        "n = int(0.9*len(data))\n",
        "train_data = data[:n]\n",
        "val_data = data[n:]"
      ]
    },
    {
      "cell_type": "code",
      "execution_count": null,
      "metadata": {
        "colab": {
          "base_uri": "https://localhost:8080/"
        },
        "id": "Te5FbIirhhy0",
        "outputId": "5bb3514e-ab3d-4bf6-e080-f8d484707896"
      },
      "outputs": [
        {
          "output_type": "execute_result",
          "data": {
            "text/plain": [
              "tensor([23,  2, 35, 57, 52, 67, 69, 61, 61])"
            ]
          },
          "metadata": {},
          "execution_count": 10
        }
      ],
      "source": [
        "block_size = 8\n",
        "train_data[:block_size+1]"
      ]
    },
    {
      "cell_type": "code",
      "execution_count": null,
      "metadata": {
        "colab": {
          "base_uri": "https://localhost:8080/"
        },
        "id": "ZKnCBrdFi_ug",
        "outputId": "5256ad0b-b475-4367-9dc2-6333c17832e6"
      },
      "outputs": [
        {
          "output_type": "stream",
          "name": "stdout",
          "text": [
            "input is tensor([], dtype=torch.int64) then target is 23\n",
            "input is tensor([23]) then target is 2\n",
            "input is tensor([23,  2]) then target is 35\n",
            "input is tensor([23,  2, 35]) then target is 57\n",
            "input is tensor([23,  2, 35, 57]) then target is 52\n",
            "input is tensor([23,  2, 35, 57, 52]) then target is 67\n",
            "input is tensor([23,  2, 35, 57, 52, 67]) then target is 69\n",
            "input is tensor([23,  2, 35, 57, 52, 67, 69]) then target is 61\n"
          ]
        }
      ],
      "source": [
        "x = train_data[:block_size]\n",
        "y = train_data[1:block_size+1]\n",
        "for i in range(block_size):\n",
        "  context = x[:i]\n",
        "  target = x[i]\n",
        "  print(f\"input is {context} then target is {target}\")\n"
      ]
    },
    {
      "cell_type": "code",
      "execution_count": null,
      "metadata": {
        "colab": {
          "base_uri": "https://localhost:8080/"
        },
        "id": "ZqVLsjgprx7x",
        "outputId": "148b4d95-3258-4d0c-c55e-ea232b4042a7"
      },
      "outputs": [
        {
          "output_type": "stream",
          "name": "stdout",
          "text": [
            "inputs:\n",
            "torch.Size([4, 8])\n",
            "tensor([[66, 61, 57, 49,  8,  2, 60, 63],\n",
            "        [25, 27,  2,  2, 31, 67,  2, 49],\n",
            "        [ 2, 71, 56, 49, 68,  2, 54, 63],\n",
            "        [60, 60,  2, 71, 56, 57, 51, 56]])\n",
            "targets:\n",
            "torch.Size([4, 8])\n",
            "tensor([[61, 57, 49,  8,  2, 60, 63, 63],\n",
            "        [27,  2,  2, 31, 67,  2, 49, 60],\n",
            "        [71, 56, 49, 68,  2, 54, 63, 63],\n",
            "        [60,  2, 71, 56, 57, 51, 56,  2]])\n",
            "________________________________________________________________________________\n",
            "for input is [66] the target :61\n",
            "for input is [66, 61] the target :57\n",
            "for input is [66, 61, 57] the target :49\n",
            "for input is [66, 61, 57, 49] the target :8\n",
            "for input is [66, 61, 57, 49, 8] the target :2\n",
            "for input is [66, 61, 57, 49, 8, 2] the target :60\n",
            "for input is [66, 61, 57, 49, 8, 2, 60] the target :63\n",
            "for input is [66, 61, 57, 49, 8, 2, 60, 63] the target :63\n",
            "for input is [25] the target :27\n",
            "for input is [25, 27] the target :2\n",
            "for input is [25, 27, 2] the target :2\n",
            "for input is [25, 27, 2, 2] the target :31\n",
            "for input is [25, 27, 2, 2, 31] the target :67\n",
            "for input is [25, 27, 2, 2, 31, 67] the target :2\n",
            "for input is [25, 27, 2, 2, 31, 67, 2] the target :49\n",
            "for input is [25, 27, 2, 2, 31, 67, 2, 49] the target :60\n",
            "for input is [2] the target :71\n",
            "for input is [2, 71] the target :56\n",
            "for input is [2, 71, 56] the target :49\n",
            "for input is [2, 71, 56, 49] the target :68\n",
            "for input is [2, 71, 56, 49, 68] the target :2\n",
            "for input is [2, 71, 56, 49, 68, 2] the target :54\n",
            "for input is [2, 71, 56, 49, 68, 2, 54] the target :63\n",
            "for input is [2, 71, 56, 49, 68, 2, 54, 63] the target :63\n",
            "for input is [60] the target :60\n",
            "for input is [60, 60] the target :2\n",
            "for input is [60, 60, 2] the target :71\n",
            "for input is [60, 60, 2, 71] the target :56\n",
            "for input is [60, 60, 2, 71, 56] the target :57\n",
            "for input is [60, 60, 2, 71, 56, 57] the target :51\n",
            "for input is [60, 60, 2, 71, 56, 57, 51] the target :56\n",
            "for input is [60, 60, 2, 71, 56, 57, 51, 56] the target :2\n"
          ]
        }
      ],
      "source": [
        "torch.manual_seed(1337)\n",
        "\n",
        "def get_batch(split):\n",
        "  data = train_data if split == 'train' else val_data\n",
        "  ix = torch.randint(len(data)-block_size,(batch_size,))\n",
        "  x = torch.stack([data[i:i+block_size] for i in ix])\n",
        "  y = torch.stack([data[i+1:i+block_size+1] for i in ix])\n",
        "  return x,y\n",
        "\n",
        "@torch.no_grad()\n",
        "\n",
        "def estimate_loss():\n",
        "  out = {}\n",
        "  m.eval()\n",
        "  for split in ['train','val']:\n",
        "    losses = torch.zeros(eval_iters)\n",
        "    for k in range(eval_iters):\n",
        "      X,Y = get_batch(split)\n",
        "      logits,loss= m(X,Y)\n",
        "      losses[k] = loss.item()\n",
        "    out[split] = losses.mean()\n",
        "  m.train()\n",
        "  return out\n",
        "\n",
        "\n",
        "xb,yb, = get_batch('train')\n",
        "print(\"inputs:\")\n",
        "print(xb.shape)\n",
        "print(xb)\n",
        "print(\"targets:\")\n",
        "print(yb.shape)\n",
        "print(yb)\n",
        "\n",
        "print(\"________________________________________________________________________________\")\n",
        "\n",
        "for b in range(batch_size):\n",
        "  for t in range(block_size):\n",
        "    context = xb[b,:t+1]\n",
        "    target = yb[b,t]\n",
        "    print(f\"for input is {context.tolist()} the target :{target}\")\n",
        "\n"
      ]
    },
    {
      "cell_type": "code",
      "execution_count": null,
      "metadata": {
        "id": "3bSbLUGLjfOD"
      },
      "outputs": [],
      "source": [
        "import torch.nn as nn"
      ]
    },
    {
      "cell_type": "code",
      "execution_count": null,
      "metadata": {
        "id": "sW2_HIjIWoRu"
      },
      "outputs": [],
      "source": [
        "class Head(nn.Module):\n",
        "  def __init__(self,head_size):\n",
        "    super().__init__()\n",
        "    self.key = nn.Linear(n_embed,head_size,bias=False)\n",
        "    self.query = nn.Linear(n_embed,head_size,bias=False)\n",
        "    self.value = nn.Linear(n_embed,head_size,bias=False)\n",
        "    self.register_buffer('tril',torch.tril(torch.ones(block_size,block_size)))\n",
        "    self.dropout = nn.Dropout(dropout)\n",
        "\n",
        "  def forward(self,x):\n",
        "    B,T,C = x.shape\n",
        "    k = self.key(x)\n",
        "    q = self.query(x)\n",
        "    wei = q @ k.transpose(-2,-1)*C**-0.5\n",
        "    wei = wei.masked_fill(self.tril[:T,:T]==0,float('-inf'))\n",
        "    wei=F.softmax(wei,dim=-1)\n",
        "    wei = self.dropout(wei)\n",
        "    v = self.value(x)\n",
        "    out = wei @ v\n",
        "    return out"
      ]
    },
    {
      "cell_type": "code",
      "execution_count": null,
      "metadata": {
        "id": "MKSqYWWlX8zd"
      },
      "outputs": [],
      "source": [
        "class MultiHeadAttention(nn.Module):\n",
        "  def __init__(self,num_heads,head_size):\n",
        "    super().__init__()\n",
        "    self.heads = nn.ModuleList([Head(head_size) for _ in range(num_heads)])\n",
        "    self.proj = nn.Linear(num_heads*head_size,n_embed)\n",
        "    self.dropout = nn.Dropout(dropout)\n",
        "\n",
        "  def forward(self,x):\n",
        "    out = torch.cat([h(x) for h in self.heads],dim = -1)\n",
        "    out = self.dropout(self.proj(out))\n",
        "    return out"
      ]
    },
    {
      "cell_type": "code",
      "execution_count": null,
      "metadata": {
        "id": "NFT3-mimakW3"
      },
      "outputs": [],
      "source": [
        "class FeedForward(nn.Module):\n",
        "\n",
        "  def __init__(self,n_embed):\n",
        "    super().__init__()\n",
        "    self.net = nn.Sequential(\n",
        "        nn.Linear(n_embed,4*n_embed),\n",
        "        nn.ReLU(),\n",
        "        nn.Linear(4*n_embed,n_embed),\n",
        "        nn.Dropout(dropout),\n",
        "        )\n",
        "\n",
        "  def forward(self,x):\n",
        "    return self.net(x)"
      ]
    },
    {
      "cell_type": "code",
      "execution_count": null,
      "metadata": {
        "id": "3gdo1TWNbhS2"
      },
      "outputs": [],
      "source": [
        "class Block(nn.Module):\n",
        "\n",
        "  def __init__(self,n_embed,n_head):\n",
        "    super().__init__()\n",
        "    head_size = n_embed//n_head\n",
        "    self.sa = MultiHeadAttention(n_head,head_size)\n",
        "    self.ffwd = FeedForward(n_embed)\n",
        "    self.ln1 = nn.LayerNorm(n_embed)\n",
        "    self.ln2 = nn.LayerNorm(n_embed)\n",
        "\n",
        "  def forward(self,x):\n",
        "    x = x + self.sa(self.ln1(x))\n",
        "    x = x + self.ffwd(self.ln2(x))\n",
        "    return x"
      ]
    },
    {
      "cell_type": "code",
      "execution_count": null,
      "metadata": {
        "colab": {
          "base_uri": "https://localhost:8080/"
        },
        "id": "AIy_7q4Yh4V7",
        "outputId": "c87854e5-462e-41a4-88ba-5b74a8d7f69d"
      },
      "outputs": [
        {
          "output_type": "stream",
          "name": "stdout",
          "text": [
            "torch.Size([32, 75])\n",
            "tensor(4.5332, grad_fn=<NllLossBackward0>)\n",
            "\t5)dS'[N=BEr unmM)M\n",
            "2dU\"P:wx\n",
            ";vsrBHk)n'YCmTkiDxEcHhikU)Tcx)\n",
            "'G'h(34\n",
            "-r[)Ie::n,\tkjo[;bvv [[[b2mWe=zOu2\n"
          ]
        }
      ],
      "source": [
        "#creating a Bigram\n",
        "import torch\n",
        "from torch.nn import functional as F\n",
        "torch.manual_seed(1337)\n",
        "\n",
        "\n",
        "class BigramLanguageModel(nn.Module):\n",
        "\n",
        "  def __init__(self):\n",
        "    super().__init__()\n",
        "    self.token_embedding_table = nn.Embedding(vocab_size,n_embed)\n",
        "    self.position_embedding_table = nn.Embedding(block_size,n_embed)\n",
        "    self.blocks = nn.Sequential(*[Block(n_embed,n_head=n_head) for _ in range(n_layer)])\n",
        "    self.ln_f = nn.LayerNorm(n_embed)\n",
        "    self.lm_head = nn.Linear(n_embed,vocab_size)\n",
        "\n",
        "\n",
        "  def forward(self,idx,targets=None):\n",
        "    B,T = idx.shape\n",
        "\n",
        "    tok_emb = self.token_embedding_table(idx)  #(B,T,C)\n",
        "    pos_emb = self.position_embedding_table(torch.arange(T))\n",
        "    x= tok_emb + pos_emb #(B,T,C)\n",
        "    x = self.blocks(x)\n",
        "    x= self.ln_f(x)\n",
        "    logits = self.lm_head(x)\n",
        "\n",
        "    if targets is None:\n",
        "      loss = None\n",
        "    else:\n",
        "      B,T,C = logits.shape\n",
        "      logits = logits.view(B*T,C)\n",
        "      targets = targets.view(B*T)\n",
        "      loss = F.cross_entropy(logits,targets)\n",
        "    return logits,loss\n",
        "\n",
        "\n",
        "  def generate(self,idx,max_new_tokens):\n",
        "    #idx is (B,T) array of indices in current context\n",
        "    for i in range(max_new_tokens):\n",
        "      idx_cond = idx[:,-block_size:]\n",
        "      logits,loss = self(idx_cond)\n",
        "      logits = logits[:,-1,:]\n",
        "      probs = F.softmax(logits,dim=-1)\n",
        "      idx_next = torch.multinomial(probs,num_samples = 1) #(B,1)\n",
        "      idx = torch.cat((idx,idx_next),dim=1) #(B,T+1)\n",
        "    return idx\n",
        "\n",
        "\n",
        "m = BigramLanguageModel()\n",
        "logits,loss = m(xb,yb)\n",
        "print(logits.shape)\n",
        "print(loss)\n",
        "\n",
        "print(decode(m.generate(idx = torch.zeros((1,1),dtype = torch.long),max_new_tokens=100)[0].tolist()))"
      ]
    },
    {
      "cell_type": "code",
      "source": [
        "optimizer = torch.optim.AdamW(m.parameters(),learning_rate)\n",
        "batch_size=32\n",
        "for steps in range(3000):\n",
        "  xb,yb = get_batch('train')\n",
        "  logits,loss = m(xb,yb)\n",
        "  optimizer.zero_grad(set_to_none=True)\n",
        "  loss.backward()\n",
        "  optimizer.step()"
      ],
      "metadata": {
        "id": "8T7aEt01b6gy"
      },
      "execution_count": null,
      "outputs": []
    },
    {
      "cell_type": "code",
      "execution_count": null,
      "metadata": {
        "colab": {
          "base_uri": "https://localhost:8080/"
        },
        "id": "Yx4wVhegikFi",
        "outputId": "5cdbd78b-7d7b-4033-ed8b-110df039085a"
      },
      "outputs": [
        {
          "output_type": "stream",
          "name": "stdout",
          "text": [
            "step 0: train loss : 1.7255, val loss : 1.8865\n",
            "step 300: train loss : 1.7112, val loss : 1.8761\n",
            "step 600: train loss : 1.7188, val loss : 1.8781\n",
            "step 900: train loss : 1.7062, val loss : 1.8777\n",
            "step 1200: train loss : 1.7225, val loss : 1.8861\n",
            "step 1500: train loss : 1.7105, val loss : 1.8691\n",
            "step 1800: train loss : 1.7075, val loss : 1.8764\n",
            "step 2100: train loss : 1.7129, val loss : 1.8865\n",
            "step 2400: train loss : 1.7072, val loss : 1.8859\n",
            "step 2700: train loss : 1.7247, val loss : 1.8657\n",
            "step 3000: train loss : 1.7244, val loss : 1.8771\n",
            "step 3300: train loss : 1.7107, val loss : 1.8911\n",
            "step 3600: train loss : 1.7096, val loss : 1.8772\n",
            "step 3900: train loss : 1.7290, val loss : 1.8772\n",
            "step 4200: train loss : 1.7188, val loss : 1.8907\n",
            "step 4500: train loss : 1.7151, val loss : 1.8782\n",
            "step 4800: train loss : 1.7066, val loss : 1.8891\n"
          ]
        }
      ],
      "source": [
        "#Training Loop\n",
        "\n",
        "for iter in range(max_iters):\n",
        "  if iter%eval_interval == 0:\n",
        "    losses = estimate_loss()\n",
        "    print(f\"step {iter}: train loss : {losses['train']:.4f}, val loss : {losses['val']:.4f}\")"
      ]
    },
    {
      "cell_type": "code",
      "execution_count": null,
      "metadata": {
        "colab": {
          "base_uri": "https://localhost:8080/"
        },
        "id": "gRa-ehQ9F-Ne",
        "outputId": "bb5c9f4b-aaa4-471b-fe78-7c9a881ac952"
      },
      "outputs": [
        {
          "output_type": "stream",
          "name": "stdout",
          "text": [
            "\tQueshey cromollove moonsieur mastern.\n",
            "\tOf Taus and for spurged enca\n",
            "field, one! BotHere exit.]\n",
            "\n",
            "I'll play scare your in the come theathing my glance summer's sweet, Lysander me thee man we thou set and gast-see! Master, you dray lay there I do beforth of now you,\n",
            "\tOf lignct with moonloox, gain the for simmetimly, I sweet next prius! That componace maw onlyte to hermsence stolempany very The liates Thisbe heaut, by there.\n",
            "Tellack,\n",
            "The angal pasy, the course yeap.\n",
            "Whate Meter. Limploing with have \n"
          ]
        }
      ],
      "source": [
        "print(decode(m.generate(idx = torch.zeros((1,1),dtype = torch.long),max_new_tokens=500)[0].tolist()))"
      ]
    },
    {
      "cell_type": "code",
      "source": [],
      "metadata": {
        "id": "0bNTCv73iVOs"
      },
      "execution_count": null,
      "outputs": []
    }
  ],
  "metadata": {
    "accelerator": "GPU",
    "colab": {
      "provenance": [],
      "gpuType": "T4"
    },
    "kernelspec": {
      "display_name": "Python 3",
      "name": "python3"
    },
    "language_info": {
      "name": "python"
    }
  },
  "nbformat": 4,
  "nbformat_minor": 0
}